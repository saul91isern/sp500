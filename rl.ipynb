{
 "cells": [
  {
   "cell_type": "code",
   "execution_count": 2,
   "metadata": {},
   "outputs": [],
   "source": [
    "import pandas as pd\n",
    "import numpy as np\n",
    "import datetime\n",
    "import pandas_datareader as data_reader\n",
    "import matplotlib.pyplot as plt\n",
    "import joblib\n",
    "\n",
    "from sklearn import linear_model, metrics\n",
    "from information.data import DataSet, PreProcessing\n",
    "from visualization.chart import Plot"
   ]
  },
  {
   "cell_type": "code",
   "execution_count": 3,
   "metadata": {},
   "outputs": [],
   "source": [
    "orig_appl = data_reader.get_data_yahoo('AAPL', start=datetime.datetime(2011, 1, 1), end=datetime.datetime(2019, 8, 9))\n",
    "orig_spy = data_reader.get_data_yahoo('SPY', start=datetime.datetime(2011, 1, 1), end=datetime.datetime(2019, 8, 9))"
   ]
  },
  {
   "cell_type": "code",
   "execution_count": 4,
   "metadata": {},
   "outputs": [
    {
     "data": {
      "text/html": [
       "<div>\n",
       "<style scoped>\n",
       "    .dataframe tbody tr th:only-of-type {\n",
       "        vertical-align: middle;\n",
       "    }\n",
       "\n",
       "    .dataframe tbody tr th {\n",
       "        vertical-align: top;\n",
       "    }\n",
       "\n",
       "    .dataframe thead th {\n",
       "        text-align: right;\n",
       "    }\n",
       "</style>\n",
       "<table border=\"1\" class=\"dataframe\">\n",
       "  <thead>\n",
       "    <tr style=\"text-align: right;\">\n",
       "      <th></th>\n",
       "      <th>High</th>\n",
       "      <th>Low</th>\n",
       "      <th>Open</th>\n",
       "      <th>Close</th>\n",
       "      <th>Volume</th>\n",
       "      <th>Adj Close</th>\n",
       "    </tr>\n",
       "  </thead>\n",
       "  <tbody>\n",
       "    <tr>\n",
       "      <th>count</th>\n",
       "      <td>2165.000000</td>\n",
       "      <td>2165.000000</td>\n",
       "      <td>2165.000000</td>\n",
       "      <td>2165.000000</td>\n",
       "      <td>2.165000e+03</td>\n",
       "      <td>2165.000000</td>\n",
       "    </tr>\n",
       "    <tr>\n",
       "      <th>mean</th>\n",
       "      <td>113.855584</td>\n",
       "      <td>111.821864</td>\n",
       "      <td>112.852056</td>\n",
       "      <td>112.860355</td>\n",
       "      <td>6.839653e+07</td>\n",
       "      <td>106.138141</td>\n",
       "    </tr>\n",
       "    <tr>\n",
       "      <th>std</th>\n",
       "      <td>47.412521</td>\n",
       "      <td>46.616295</td>\n",
       "      <td>46.989447</td>\n",
       "      <td>47.025056</td>\n",
       "      <td>5.217773e+07</td>\n",
       "      <td>48.551724</td>\n",
       "    </tr>\n",
       "    <tr>\n",
       "      <th>min</th>\n",
       "      <td>45.385715</td>\n",
       "      <td>44.357143</td>\n",
       "      <td>45.240002</td>\n",
       "      <td>45.045715</td>\n",
       "      <td>1.136200e+07</td>\n",
       "      <td>39.194321</td>\n",
       "    </tr>\n",
       "    <tr>\n",
       "      <th>25%</th>\n",
       "      <td>75.841431</td>\n",
       "      <td>74.511429</td>\n",
       "      <td>75.028572</td>\n",
       "      <td>75.137146</td>\n",
       "      <td>3.079100e+07</td>\n",
       "      <td>67.156746</td>\n",
       "    </tr>\n",
       "    <tr>\n",
       "      <th>50%</th>\n",
       "      <td>106.000000</td>\n",
       "      <td>104.410004</td>\n",
       "      <td>104.889999</td>\n",
       "      <td>105.220001</td>\n",
       "      <td>5.103420e+07</td>\n",
       "      <td>98.083740</td>\n",
       "    </tr>\n",
       "    <tr>\n",
       "      <th>75%</th>\n",
       "      <td>150.130005</td>\n",
       "      <td>146.759995</td>\n",
       "      <td>148.300003</td>\n",
       "      <td>148.960007</td>\n",
       "      <td>9.108610e+07</td>\n",
       "      <td>144.023117</td>\n",
       "    </tr>\n",
       "    <tr>\n",
       "      <th>max</th>\n",
       "      <td>233.470001</td>\n",
       "      <td>229.779999</td>\n",
       "      <td>230.779999</td>\n",
       "      <td>232.070007</td>\n",
       "      <td>4.702495e+08</td>\n",
       "      <td>227.839798</td>\n",
       "    </tr>\n",
       "  </tbody>\n",
       "</table>\n",
       "</div>"
      ],
      "text/plain": [
       "              High          Low         Open        Close        Volume  \\\n",
       "count  2165.000000  2165.000000  2165.000000  2165.000000  2.165000e+03   \n",
       "mean    113.855584   111.821864   112.852056   112.860355  6.839653e+07   \n",
       "std      47.412521    46.616295    46.989447    47.025056  5.217773e+07   \n",
       "min      45.385715    44.357143    45.240002    45.045715  1.136200e+07   \n",
       "25%      75.841431    74.511429    75.028572    75.137146  3.079100e+07   \n",
       "50%     106.000000   104.410004   104.889999   105.220001  5.103420e+07   \n",
       "75%     150.130005   146.759995   148.300003   148.960007  9.108610e+07   \n",
       "max     233.470001   229.779999   230.779999   232.070007  4.702495e+08   \n",
       "\n",
       "         Adj Close  \n",
       "count  2165.000000  \n",
       "mean    106.138141  \n",
       "std      48.551724  \n",
       "min      39.194321  \n",
       "25%      67.156746  \n",
       "50%      98.083740  \n",
       "75%     144.023117  \n",
       "max     227.839798  "
      ]
     },
     "execution_count": 4,
     "metadata": {},
     "output_type": "execute_result"
    }
   ],
   "source": [
    "appl = orig_appl.copy()\n",
    "spy = orig_spy.copy()\n",
    "\n",
    "appl.dropna(inplace=True)\n",
    "spy.dropna(inplace=True)\n",
    "\n",
    "appl.describe()"
   ]
  },
  {
   "cell_type": "code",
   "execution_count": 5,
   "metadata": {},
   "outputs": [],
   "source": [
    "data_set = DataSet()\n",
    "appl = data_set.calculate_alpha_and_beta(spy, appl, 64)\n",
    "appl = data_set.get_technical_indicators(appl, spy)"
   ]
  },
  {
   "cell_type": "code",
   "execution_count": 6,
   "metadata": {},
   "outputs": [
    {
     "data": {
      "text/html": [
       "<div>\n",
       "<style scoped>\n",
       "    .dataframe tbody tr th:only-of-type {\n",
       "        vertical-align: middle;\n",
       "    }\n",
       "\n",
       "    .dataframe tbody tr th {\n",
       "        vertical-align: top;\n",
       "    }\n",
       "\n",
       "    .dataframe thead th {\n",
       "        text-align: right;\n",
       "    }\n",
       "</style>\n",
       "<table border=\"1\" class=\"dataframe\">\n",
       "  <thead>\n",
       "    <tr style=\"text-align: right;\">\n",
       "      <th></th>\n",
       "      <th>High</th>\n",
       "      <th>Low</th>\n",
       "      <th>Open</th>\n",
       "      <th>Close</th>\n",
       "      <th>Volume</th>\n",
       "      <th>Adj Close</th>\n",
       "      <th>ma7</th>\n",
       "      <th>ma21</th>\n",
       "      <th>SMA100</th>\n",
       "      <th>26ema</th>\n",
       "      <th>...</th>\n",
       "      <th>20sd</th>\n",
       "      <th>upper_band</th>\n",
       "      <th>lower_band</th>\n",
       "      <th>ema</th>\n",
       "      <th>ROC</th>\n",
       "      <th>SPY_SMA_100</th>\n",
       "      <th>SPY_Vol</th>\n",
       "      <th>Log_Returns</th>\n",
       "      <th>Vol</th>\n",
       "      <th>Sharpe_Ratio</th>\n",
       "    </tr>\n",
       "  </thead>\n",
       "  <tbody>\n",
       "    <tr>\n",
       "      <th>count</th>\n",
       "      <td>2065.000000</td>\n",
       "      <td>2065.000000</td>\n",
       "      <td>2065.000000</td>\n",
       "      <td>2065.000000</td>\n",
       "      <td>2.065000e+03</td>\n",
       "      <td>2065.000000</td>\n",
       "      <td>2065.000000</td>\n",
       "      <td>2065.000000</td>\n",
       "      <td>2065.000000</td>\n",
       "      <td>2065.000000</td>\n",
       "      <td>...</td>\n",
       "      <td>2065.000000</td>\n",
       "      <td>2065.000000</td>\n",
       "      <td>2065.000000</td>\n",
       "      <td>2065.000000</td>\n",
       "      <td>2065.000000</td>\n",
       "      <td>2065.000000</td>\n",
       "      <td>2065.000000</td>\n",
       "      <td>2065.000000</td>\n",
       "      <td>2065.000000</td>\n",
       "      <td>2065.000000</td>\n",
       "    </tr>\n",
       "    <tr>\n",
       "      <th>mean</th>\n",
       "      <td>116.970957</td>\n",
       "      <td>114.878262</td>\n",
       "      <td>115.936585</td>\n",
       "      <td>115.946093</td>\n",
       "      <td>6.604698e+07</td>\n",
       "      <td>109.207463</td>\n",
       "      <td>108.979080</td>\n",
       "      <td>108.430398</td>\n",
       "      <td>105.502022</td>\n",
       "      <td>108.244526</td>\n",
       "      <td>...</td>\n",
       "      <td>2.973651</td>\n",
       "      <td>114.377700</td>\n",
       "      <td>102.483096</td>\n",
       "      <td>105.574803</td>\n",
       "      <td>9.035641</td>\n",
       "      <td>184.735621</td>\n",
       "      <td>0.133374</td>\n",
       "      <td>0.000758</td>\n",
       "      <td>0.250183</td>\n",
       "      <td>0.004345</td>\n",
       "    </tr>\n",
       "    <tr>\n",
       "      <th>std</th>\n",
       "      <td>46.331082</td>\n",
       "      <td>45.562538</td>\n",
       "      <td>45.921978</td>\n",
       "      <td>45.958448</td>\n",
       "      <td>5.070170e+07</td>\n",
       "      <td>47.616888</td>\n",
       "      <td>47.519826</td>\n",
       "      <td>47.254955</td>\n",
       "      <td>45.834757</td>\n",
       "      <td>47.066766</td>\n",
       "      <td>...</td>\n",
       "      <td>2.021622</td>\n",
       "      <td>49.820553</td>\n",
       "      <td>44.907346</td>\n",
       "      <td>45.647821</td>\n",
       "      <td>17.035931</td>\n",
       "      <td>53.795093</td>\n",
       "      <td>0.058152</td>\n",
       "      <td>0.016406</td>\n",
       "      <td>0.068137</td>\n",
       "      <td>0.008723</td>\n",
       "    </tr>\n",
       "    <tr>\n",
       "      <th>min</th>\n",
       "      <td>45.385715</td>\n",
       "      <td>44.357143</td>\n",
       "      <td>45.240002</td>\n",
       "      <td>45.045715</td>\n",
       "      <td>1.136200e+07</td>\n",
       "      <td>39.194321</td>\n",
       "      <td>40.241814</td>\n",
       "      <td>41.051244</td>\n",
       "      <td>42.467190</td>\n",
       "      <td>41.179353</td>\n",
       "      <td>...</td>\n",
       "      <td>0.479299</td>\n",
       "      <td>42.663556</td>\n",
       "      <td>38.379241</td>\n",
       "      <td>42.048565</td>\n",
       "      <td>-36.348564</td>\n",
       "      <td>101.938654</td>\n",
       "      <td>0.049786</td>\n",
       "      <td>-0.131885</td>\n",
       "      <td>0.103573</td>\n",
       "      <td>-0.018383</td>\n",
       "    </tr>\n",
       "    <tr>\n",
       "      <th>25%</th>\n",
       "      <td>78.639999</td>\n",
       "      <td>76.980003</td>\n",
       "      <td>78.000000</td>\n",
       "      <td>77.781425</td>\n",
       "      <td>2.975920e+07</td>\n",
       "      <td>69.545288</td>\n",
       "      <td>69.485370</td>\n",
       "      <td>69.645202</td>\n",
       "      <td>68.317543</td>\n",
       "      <td>69.449843</td>\n",
       "      <td>...</td>\n",
       "      <td>1.653032</td>\n",
       "      <td>73.531637</td>\n",
       "      <td>65.347228</td>\n",
       "      <td>67.395432</td>\n",
       "      <td>-2.384172</td>\n",
       "      <td>137.562422</td>\n",
       "      <td>0.096781</td>\n",
       "      <td>-0.006952</td>\n",
       "      <td>0.204289</td>\n",
       "      <td>-0.001112</td>\n",
       "    </tr>\n",
       "    <tr>\n",
       "      <th>50%</th>\n",
       "      <td>108.900002</td>\n",
       "      <td>106.820000</td>\n",
       "      <td>107.900002</td>\n",
       "      <td>107.949997</td>\n",
       "      <td>4.895100e+07</td>\n",
       "      <td>100.794250</td>\n",
       "      <td>101.180101</td>\n",
       "      <td>101.326626</td>\n",
       "      <td>97.801066</td>\n",
       "      <td>100.632901</td>\n",
       "      <td>...</td>\n",
       "      <td>2.337777</td>\n",
       "      <td>106.079336</td>\n",
       "      <td>95.215096</td>\n",
       "      <td>98.092649</td>\n",
       "      <td>10.913127</td>\n",
       "      <td>185.044315</td>\n",
       "      <td>0.119653</td>\n",
       "      <td>0.000626</td>\n",
       "      <td>0.237389</td>\n",
       "      <td>0.004087</td>\n",
       "    </tr>\n",
       "    <tr>\n",
       "      <th>75%</th>\n",
       "      <td>153.979996</td>\n",
       "      <td>151.130005</td>\n",
       "      <td>153.169998</td>\n",
       "      <td>153.070007</td>\n",
       "      <td>8.639330e+07</td>\n",
       "      <td>147.838058</td>\n",
       "      <td>147.950893</td>\n",
       "      <td>146.280142</td>\n",
       "      <td>140.457659</td>\n",
       "      <td>145.136181</td>\n",
       "      <td>...</td>\n",
       "      <td>3.650422</td>\n",
       "      <td>152.839737</td>\n",
       "      <td>139.277466</td>\n",
       "      <td>138.089240</td>\n",
       "      <td>19.693310</td>\n",
       "      <td>227.477768</td>\n",
       "      <td>0.150378</td>\n",
       "      <td>0.009584</td>\n",
       "      <td>0.285240</td>\n",
       "      <td>0.009707</td>\n",
       "    </tr>\n",
       "    <tr>\n",
       "      <th>max</th>\n",
       "      <td>233.470001</td>\n",
       "      <td>229.779999</td>\n",
       "      <td>230.779999</td>\n",
       "      <td>232.070007</td>\n",
       "      <td>3.765300e+08</td>\n",
       "      <td>227.839798</td>\n",
       "      <td>223.224060</td>\n",
       "      <td>219.401228</td>\n",
       "      <td>205.928441</td>\n",
       "      <td>218.637046</td>\n",
       "      <td>...</td>\n",
       "      <td>15.069447</td>\n",
       "      <td>228.119122</td>\n",
       "      <td>211.761917</td>\n",
       "      <td>205.801093</td>\n",
       "      <td>65.701649</td>\n",
       "      <td>286.355105</td>\n",
       "      <td>0.367730</td>\n",
       "      <td>0.085022</td>\n",
       "      <td>0.471409</td>\n",
       "      <td>0.033084</td>\n",
       "    </tr>\n",
       "  </tbody>\n",
       "</table>\n",
       "<p>8 rows × 22 columns</p>\n",
       "</div>"
      ],
      "text/plain": [
       "              High          Low         Open        Close        Volume  \\\n",
       "count  2065.000000  2065.000000  2065.000000  2065.000000  2.065000e+03   \n",
       "mean    116.970957   114.878262   115.936585   115.946093  6.604698e+07   \n",
       "std      46.331082    45.562538    45.921978    45.958448  5.070170e+07   \n",
       "min      45.385715    44.357143    45.240002    45.045715  1.136200e+07   \n",
       "25%      78.639999    76.980003    78.000000    77.781425  2.975920e+07   \n",
       "50%     108.900002   106.820000   107.900002   107.949997  4.895100e+07   \n",
       "75%     153.979996   151.130005   153.169998   153.070007  8.639330e+07   \n",
       "max     233.470001   229.779999   230.779999   232.070007  3.765300e+08   \n",
       "\n",
       "         Adj Close          ma7         ma21       SMA100        26ema  ...  \\\n",
       "count  2065.000000  2065.000000  2065.000000  2065.000000  2065.000000  ...   \n",
       "mean    109.207463   108.979080   108.430398   105.502022   108.244526  ...   \n",
       "std      47.616888    47.519826    47.254955    45.834757    47.066766  ...   \n",
       "min      39.194321    40.241814    41.051244    42.467190    41.179353  ...   \n",
       "25%      69.545288    69.485370    69.645202    68.317543    69.449843  ...   \n",
       "50%     100.794250   101.180101   101.326626    97.801066   100.632901  ...   \n",
       "75%     147.838058   147.950893   146.280142   140.457659   145.136181  ...   \n",
       "max     227.839798   223.224060   219.401228   205.928441   218.637046  ...   \n",
       "\n",
       "              20sd   upper_band   lower_band          ema          ROC  \\\n",
       "count  2065.000000  2065.000000  2065.000000  2065.000000  2065.000000   \n",
       "mean      2.973651   114.377700   102.483096   105.574803     9.035641   \n",
       "std       2.021622    49.820553    44.907346    45.647821    17.035931   \n",
       "min       0.479299    42.663556    38.379241    42.048565   -36.348564   \n",
       "25%       1.653032    73.531637    65.347228    67.395432    -2.384172   \n",
       "50%       2.337777   106.079336    95.215096    98.092649    10.913127   \n",
       "75%       3.650422   152.839737   139.277466   138.089240    19.693310   \n",
       "max      15.069447   228.119122   211.761917   205.801093    65.701649   \n",
       "\n",
       "       SPY_SMA_100      SPY_Vol  Log_Returns          Vol  Sharpe_Ratio  \n",
       "count  2065.000000  2065.000000  2065.000000  2065.000000   2065.000000  \n",
       "mean    184.735621     0.133374     0.000758     0.250183      0.004345  \n",
       "std      53.795093     0.058152     0.016406     0.068137      0.008723  \n",
       "min     101.938654     0.049786    -0.131885     0.103573     -0.018383  \n",
       "25%     137.562422     0.096781    -0.006952     0.204289     -0.001112  \n",
       "50%     185.044315     0.119653     0.000626     0.237389      0.004087  \n",
       "75%     227.477768     0.150378     0.009584     0.285240      0.009707  \n",
       "max     286.355105     0.367730     0.085022     0.471409      0.033084  \n",
       "\n",
       "[8 rows x 22 columns]"
      ]
     },
     "execution_count": 6,
     "metadata": {},
     "output_type": "execute_result"
    }
   ],
   "source": [
    "appl.dropna(inplace=True)\n",
    "appl.describe()"
   ]
  },
  {
   "cell_type": "code",
   "execution_count": 7,
   "metadata": {},
   "outputs": [
    {
     "data": {
      "image/png": "[encoded data removed]",
      "text/plain": [
       "<Figure size 432x288 with 1 Axes>"
      ]
     },
     "metadata": {
      "needs_background": "light"
     },
     "output_type": "display_data"
    }
   ],
   "source": [
    "sub_appl = appl.tail(100)\n",
    "data_points = range(len(sub_appl))\n",
    "plt.plot(data_points, sub_appl[\"ma21\"], label=\"ma21\")\n",
    "plt.plot(data_points, sub_appl[\"upper_band\"], label=\"upper_band\")\n",
    "plt.plot(data_points, sub_appl[\"lower_band\"], label=\"lower_band\")\n",
    "plt.plot(data_points, sub_appl[\"Adj Close\"], label=\"Adj Close\")\n",
    "plt.xlabel(\"Days\")\n",
    "plt.legend()\n",
    "plt.show()"
   ]
  },
  {
   "cell_type": "code",
   "execution_count": 8,
   "metadata": {},
   "outputs": [],
   "source": [
    "appl['close'] = appl['Adj Close']\n",
    "appl = appl.drop(['Adj Close', 'Close', 'Volume'], axis=1)"
   ]
  },
  {
   "cell_type": "code",
   "execution_count": 9,
   "metadata": {},
   "outputs": [
    {
     "name": "stdout",
     "output_type": "stream",
     "text": [
      "Train set shape:  (1652, 22)\n",
      "Test set shape:  (413, 22)\n"
     ]
    }
   ],
   "source": [
    "preprocessing = PreProcessing()\n",
    "train, test = preprocessing.split_data(appl.values)\n",
    "print(\"Train set shape: \", train.shape)\n",
    "print(\"Test set shape: \", test.shape)"
   ]
  },
  {
   "cell_type": "code",
   "execution_count": 10,
   "metadata": {},
   "outputs": [
    {
     "name": "stdout",
     "output_type": "stream",
     "text": [
      "Train set shape:  (1652, 22)\n",
      "Test set shape:  (413, 22)\n"
     ]
    }
   ],
   "source": [
    "p_train, p_test = preprocessing.normalize_data(train, test, path=\"./data/normalizer.plk\")\n",
    "print(\"Train set shape: \", p_train.shape)\n",
    "print(\"Test set shape: \", p_test.shape)"
   ]
  },
  {
   "cell_type": "code",
   "execution_count": 11,
   "metadata": {},
   "outputs": [
    {
     "data": {
      "image/png": "[encoded data removed]",
      "text/plain": [
       "<Figure size 432x288 with 1 Axes>"
      ]
     },
     "metadata": {
      "needs_background": "light"
     },
     "output_type": "display_data"
    },
    {
     "data": {
      "image/png": "[encoded data removed]",
      "text/plain": [
       "<Figure size 432x288 with 1 Axes>"
      ]
     },
     "metadata": {
      "needs_background": "light"
     },
     "output_type": "display_data"
    }
   ],
   "source": [
    "plt.hist(p_train[:,-1])\n",
    "plt.title(\"Train set histogram on close price\") \n",
    "plt.show()\n",
    "\n",
    "plt.hist(p_test[:,-1])\n",
    "plt.title(\"Test set histogram on close price\") \n",
    "plt.show()"
   ]
  },
  {
   "cell_type": "code",
   "execution_count": 12,
   "metadata": {},
   "outputs": [
    {
     "name": "stdout",
     "output_type": "stream",
     "text": [
      "X train shape: (1627, 24, 21)\n",
      "Y train shape: (1627, 1)\n",
      "X test shape: (388, 24, 21)\n",
      "Y test shape: (388, 1)\n"
     ]
    }
   ],
   "source": [
    "x_train, y_train = preprocessing.formate_data(p_train, 24, 1)\n",
    "x_test, y_test = preprocessing.formate_data(p_test, 24, 1)\n",
    "\n",
    "print(\"X train shape:\", x_train.shape)\n",
    "print(\"Y train shape:\", y_train.shape)\n",
    "\n",
    "print(\"X test shape:\", x_test.shape)\n",
    "print(\"Y test shape:\", y_test.shape)"
   ]
  },
  {
   "cell_type": "code",
   "execution_count": 13,
   "metadata": {},
   "outputs": [
    {
     "name": "stdout",
     "output_type": "stream",
     "text": [
      "0.9602350229117642\n"
     ]
    }
   ],
   "source": [
    "X = np.reshape(x_train, (1627, 24 * 21))\n",
    "y = y_train\n",
    "reg = linear_model.LinearRegression().fit(X, y)\n",
    "print(reg.score(X, y))"
   ]
  },
  {
   "cell_type": "code",
   "execution_count": 14,
   "metadata": {},
   "outputs": [
    {
     "name": "stdout",
     "output_type": "stream",
     "text": [
      "yt shape:  (388, 1)\n",
      "pred shape:  (388, 1)\n"
     ]
    }
   ],
   "source": [
    "Xt = np.reshape(x_test, (388, 24 * 21))\n",
    "yt = y_test\n",
    "pred = reg.predict(Xt)\n",
    "print(\"yt shape: \", yt.shape)\n",
    "print(\"pred shape: \", pred.shape)"
   ]
  },
  {
   "cell_type": "code",
   "execution_count": 15,
   "metadata": {},
   "outputs": [
    {
     "name": "stdout",
     "output_type": "stream",
     "text": [
      "Mean Squared Error:  1.7404662924395013e-05\n"
     ]
    }
   ],
   "source": [
    "mse = metrics.mean_squared_error(yt, pred)\n",
    "print(\"Mean Squared Error: \", mse)"
   ]
  },
  {
   "cell_type": "code",
   "execution_count": 16,
   "metadata": {},
   "outputs": [
    {
     "data": {
      "image/png": "[encoded data removed]",
      "text/plain": [
       "<Figure size 1080x432 with 1 Axes>"
      ]
     },
     "metadata": {
      "needs_background": "light"
     },
     "output_type": "display_data"
    }
   ],
   "source": [
    "plot = Plot()\n",
    "plot.plot_results_against_true_data(pred, yt)"
   ]
  },
  {
   "cell_type": "code",
   "execution_count": 17,
   "metadata": {},
   "outputs": [
    {
     "name": "stdout",
     "output_type": "stream",
     "text": [
      "X train shape: (1627, 24, 22)\n",
      "Y train shape: (1627, 1)\n",
      "X test shape: (388, 24, 22)\n",
      "Y test shape: (388, 1)\n"
     ]
    }
   ],
   "source": [
    "x_train, y_train = preprocessing.formate_data(p_train, 24, 1, with_target=True)\n",
    "x_test, y_test = preprocessing.formate_data(p_test, 24, 1, with_target=True)\n",
    "\n",
    "print(\"X train shape:\", x_train.shape)\n",
    "print(\"Y train shape:\", y_train.shape)\n",
    "\n",
    "print(\"X test shape:\", x_test.shape)\n",
    "print(\"Y test shape:\", y_test.shape)"
   ]
  },
  {
   "cell_type": "code",
   "execution_count": 18,
   "metadata": {},
   "outputs": [
    {
     "name": "stdout",
     "output_type": "stream",
     "text": [
      "X raw train shape: (1627, 24, 22)\n",
      "Y raw train shape: (1627, 1)\n",
      "X raw test shape: (388, 24, 22)\n",
      "Y raw test shape: (388, 1)\n"
     ]
    }
   ],
   "source": [
    "x_raw_train, y_raw_train = preprocessing.formate_data(train, 24, 1, with_target=True)\n",
    "x_raw_test, y_raw_test = preprocessing.formate_data(test, 24, 1, with_target=True)\n",
    "\n",
    "print(\"X raw train shape:\", x_raw_train.shape)\n",
    "print(\"Y raw train shape:\", y_raw_train.shape)\n",
    "\n",
    "print(\"X raw test shape:\", x_raw_test.shape)\n",
    "print(\"Y raw test shape:\", y_raw_test.shape)"
   ]
  },
  {
   "cell_type": "code",
   "execution_count": 19,
   "metadata": {},
   "outputs": [
    {
     "name": "stdout",
     "output_type": "stream",
     "text": [
      "WARNING:tensorflow:From /Users/saulisernfernandez/opt/anaconda3/envs/sp500/lib/python3.6/site-packages/tensorflow_core/python/ops/resource_variable_ops.py:1630: calling BaseResourceVariable.__init__ (from tensorflow.python.ops.resource_variable_ops) with constraint is deprecated and will be removed in a future version.\n",
      "Instructions for updating:\n",
      "If using Keras pass *_constraint arguments to layers.\n"
     ]
    }
   ],
   "source": [
    "from rl.agent import Agent\n",
    "\n",
    "state_size = 24\n",
    "amount_features = 22\n",
    "episode_count = 100\n",
    "l = len(x_train) - 1\n",
    "batch_size = 32\n",
    "agent = Agent(state_size, amount_features)"
   ]
  },
  {
   "cell_type": "code",
   "execution_count": 20,
   "metadata": {},
   "outputs": [],
   "source": [
    "def priceAt(data): return data[-1, -1]"
   ]
  },
  {
   "cell_type": "code",
   "execution_count": 27,
   "metadata": {},
   "outputs": [
    {
     "name": "stdout",
     "output_type": "stream",
     "text": [
      "Episode 0/100\n"
     ]
    },
    {
     "ename": "ValueError",
     "evalue": "Error when checking input: expected gru_input to have 3 dimensions, but got array with shape (24, 22)",
     "output_type": "error",
     "traceback": [
      "\u001b[0;31m---------------------------------------------------------------------------\u001b[0m",
      "\u001b[0;31mValueError\u001b[0m                                Traceback (most recent call last)",
      "\u001b[0;32m<ipython-input-27-1b445559279c>\u001b[0m in \u001b[0;36m<module>\u001b[0;34m\u001b[0m\n\u001b[1;32m     33\u001b[0m \u001b[0;34m\u001b[0m\u001b[0m\n\u001b[1;32m     34\u001b[0m         \u001b[0;32mif\u001b[0m \u001b[0mlen\u001b[0m\u001b[0;34m(\u001b[0m\u001b[0magent\u001b[0m\u001b[0;34m.\u001b[0m\u001b[0mmemory\u001b[0m\u001b[0;34m)\u001b[0m \u001b[0;34m>\u001b[0m \u001b[0mbatch_size\u001b[0m\u001b[0;34m:\u001b[0m\u001b[0;34m\u001b[0m\u001b[0;34m\u001b[0m\u001b[0m\n\u001b[0;32m---> 35\u001b[0;31m             \u001b[0magent\u001b[0m\u001b[0;34m.\u001b[0m\u001b[0mreplay\u001b[0m\u001b[0;34m(\u001b[0m\u001b[0mbatch_size\u001b[0m\u001b[0;34m)\u001b[0m\u001b[0;34m\u001b[0m\u001b[0;34m\u001b[0m\u001b[0m\n\u001b[0m",
      "\u001b[0;32m~/Documents/workspace/sp500/rl/agent.py\u001b[0m in \u001b[0;36mreplay\u001b[0;34m(self, batch_size)\u001b[0m\n\u001b[1;32m     71\u001b[0m             \u001b[0mtarget\u001b[0m \u001b[0;34m=\u001b[0m \u001b[0mreward\u001b[0m\u001b[0;34m\u001b[0m\u001b[0;34m\u001b[0m\u001b[0m\n\u001b[1;32m     72\u001b[0m             \u001b[0;32mif\u001b[0m \u001b[0;32mnot\u001b[0m \u001b[0mdone\u001b[0m\u001b[0;34m:\u001b[0m\u001b[0;34m\u001b[0m\u001b[0;34m\u001b[0m\u001b[0m\n\u001b[0;32m---> 73\u001b[0;31m                 \u001b[0mtarget\u001b[0m \u001b[0;34m=\u001b[0m \u001b[0mreward\u001b[0m \u001b[0;34m+\u001b[0m \u001b[0mself\u001b[0m\u001b[0;34m.\u001b[0m\u001b[0m__gamma\u001b[0m \u001b[0;34m*\u001b[0m \u001b[0mnp\u001b[0m\u001b[0;34m.\u001b[0m\u001b[0mamax\u001b[0m\u001b[0;34m(\u001b[0m\u001b[0mself\u001b[0m\u001b[0;34m.\u001b[0m\u001b[0m__model\u001b[0m\u001b[0;34m.\u001b[0m\u001b[0mpredict\u001b[0m\u001b[0;34m(\u001b[0m\u001b[0mnext_state\u001b[0m\u001b[0;34m)\u001b[0m\u001b[0;34m[\u001b[0m\u001b[0;36m0\u001b[0m\u001b[0;34m]\u001b[0m\u001b[0;34m)\u001b[0m\u001b[0;34m\u001b[0m\u001b[0;34m\u001b[0m\u001b[0m\n\u001b[0m\u001b[1;32m     74\u001b[0m \u001b[0;34m\u001b[0m\u001b[0m\n\u001b[1;32m     75\u001b[0m             \u001b[0mtarget_f\u001b[0m \u001b[0;34m=\u001b[0m \u001b[0mself\u001b[0m\u001b[0;34m.\u001b[0m\u001b[0m__model\u001b[0m\u001b[0;34m.\u001b[0m\u001b[0mpredict\u001b[0m\u001b[0;34m(\u001b[0m\u001b[0mstate\u001b[0m\u001b[0;34m)\u001b[0m\u001b[0;34m\u001b[0m\u001b[0;34m\u001b[0m\u001b[0m\n",
      "\u001b[0;32m~/opt/anaconda3/envs/sp500/lib/python3.6/site-packages/tensorflow_core/python/keras/engine/training.py\u001b[0m in \u001b[0;36mpredict\u001b[0;34m(self, x, batch_size, verbose, steps, callbacks, max_queue_size, workers, use_multiprocessing)\u001b[0m\n\u001b[1;32m    906\u001b[0m         \u001b[0mmax_queue_size\u001b[0m\u001b[0;34m=\u001b[0m\u001b[0mmax_queue_size\u001b[0m\u001b[0;34m,\u001b[0m\u001b[0;34m\u001b[0m\u001b[0;34m\u001b[0m\u001b[0m\n\u001b[1;32m    907\u001b[0m         \u001b[0mworkers\u001b[0m\u001b[0;34m=\u001b[0m\u001b[0mworkers\u001b[0m\u001b[0;34m,\u001b[0m\u001b[0;34m\u001b[0m\u001b[0;34m\u001b[0m\u001b[0m\n\u001b[0;32m--> 908\u001b[0;31m         use_multiprocessing=use_multiprocessing)\n\u001b[0m\u001b[1;32m    909\u001b[0m \u001b[0;34m\u001b[0m\u001b[0m\n\u001b[1;32m    910\u001b[0m   \u001b[0;32mdef\u001b[0m \u001b[0mreset_metrics\u001b[0m\u001b[0;34m(\u001b[0m\u001b[0mself\u001b[0m\u001b[0;34m)\u001b[0m\u001b[0;34m:\u001b[0m\u001b[0;34m\u001b[0m\u001b[0;34m\u001b[0m\u001b[0m\n",
      "\u001b[0;32m~/opt/anaconda3/envs/sp500/lib/python3.6/site-packages/tensorflow_core/python/keras/engine/training_arrays.py\u001b[0m in \u001b[0;36mpredict\u001b[0;34m(self, model, x, batch_size, verbose, steps, callbacks, **kwargs)\u001b[0m\n\u001b[1;32m    714\u001b[0m     \u001b[0mbatch_size\u001b[0m \u001b[0;34m=\u001b[0m \u001b[0mmodel\u001b[0m\u001b[0;34m.\u001b[0m\u001b[0m_validate_or_infer_batch_size\u001b[0m\u001b[0;34m(\u001b[0m\u001b[0mbatch_size\u001b[0m\u001b[0;34m,\u001b[0m \u001b[0msteps\u001b[0m\u001b[0;34m,\u001b[0m \u001b[0mx\u001b[0m\u001b[0;34m)\u001b[0m\u001b[0;34m\u001b[0m\u001b[0;34m\u001b[0m\u001b[0m\n\u001b[1;32m    715\u001b[0m     x, _, _ = model._standardize_user_data(\n\u001b[0;32m--> 716\u001b[0;31m         x, check_steps=True, steps_name='steps', steps=steps)\n\u001b[0m\u001b[1;32m    717\u001b[0m     return predict_loop(\n\u001b[1;32m    718\u001b[0m         \u001b[0mmodel\u001b[0m\u001b[0;34m,\u001b[0m\u001b[0;34m\u001b[0m\u001b[0;34m\u001b[0m\u001b[0m\n",
      "\u001b[0;32m~/opt/anaconda3/envs/sp500/lib/python3.6/site-packages/tensorflow_core/python/keras/engine/training.py\u001b[0m in \u001b[0;36m_standardize_user_data\u001b[0;34m(self, x, y, sample_weight, class_weight, batch_size, check_steps, steps_name, steps, validation_split, shuffle, extract_tensors_from_dataset)\u001b[0m\n\u001b[1;32m   2469\u001b[0m           \u001b[0mfeed_input_shapes\u001b[0m\u001b[0;34m,\u001b[0m\u001b[0;34m\u001b[0m\u001b[0;34m\u001b[0m\u001b[0m\n\u001b[1;32m   2470\u001b[0m           \u001b[0mcheck_batch_axis\u001b[0m\u001b[0;34m=\u001b[0m\u001b[0;32mFalse\u001b[0m\u001b[0;34m,\u001b[0m  \u001b[0;31m# Don't enforce the batch size.\u001b[0m\u001b[0;34m\u001b[0m\u001b[0;34m\u001b[0m\u001b[0m\n\u001b[0;32m-> 2471\u001b[0;31m           exception_prefix='input')\n\u001b[0m\u001b[1;32m   2472\u001b[0m \u001b[0;34m\u001b[0m\u001b[0m\n\u001b[1;32m   2473\u001b[0m     \u001b[0;31m# Get typespecs for the input data and sanitize it if necessary.\u001b[0m\u001b[0;34m\u001b[0m\u001b[0;34m\u001b[0m\u001b[0;34m\u001b[0m\u001b[0m\n",
      "\u001b[0;32m~/opt/anaconda3/envs/sp500/lib/python3.6/site-packages/tensorflow_core/python/keras/engine/training_utils.py\u001b[0m in \u001b[0;36mstandardize_input_data\u001b[0;34m(data, names, shapes, check_batch_axis, exception_prefix)\u001b[0m\n\u001b[1;32m    561\u001b[0m                            \u001b[0;34m': expected '\u001b[0m \u001b[0;34m+\u001b[0m \u001b[0mnames\u001b[0m\u001b[0;34m[\u001b[0m\u001b[0mi\u001b[0m\u001b[0;34m]\u001b[0m \u001b[0;34m+\u001b[0m \u001b[0;34m' to have '\u001b[0m \u001b[0;34m+\u001b[0m\u001b[0;34m\u001b[0m\u001b[0;34m\u001b[0m\u001b[0m\n\u001b[1;32m    562\u001b[0m                            \u001b[0mstr\u001b[0m\u001b[0;34m(\u001b[0m\u001b[0mlen\u001b[0m\u001b[0;34m(\u001b[0m\u001b[0mshape\u001b[0m\u001b[0;34m)\u001b[0m\u001b[0;34m)\u001b[0m \u001b[0;34m+\u001b[0m \u001b[0;34m' dimensions, but got array '\u001b[0m\u001b[0;34m\u001b[0m\u001b[0;34m\u001b[0m\u001b[0m\n\u001b[0;32m--> 563\u001b[0;31m                            'with shape ' + str(data_shape))\n\u001b[0m\u001b[1;32m    564\u001b[0m         \u001b[0;32mif\u001b[0m \u001b[0;32mnot\u001b[0m \u001b[0mcheck_batch_axis\u001b[0m\u001b[0;34m:\u001b[0m\u001b[0;34m\u001b[0m\u001b[0;34m\u001b[0m\u001b[0m\n\u001b[1;32m    565\u001b[0m           \u001b[0mdata_shape\u001b[0m \u001b[0;34m=\u001b[0m \u001b[0mdata_shape\u001b[0m\u001b[0;34m[\u001b[0m\u001b[0;36m1\u001b[0m\u001b[0;34m:\u001b[0m\u001b[0;34m]\u001b[0m\u001b[0;34m\u001b[0m\u001b[0;34m\u001b[0m\u001b[0m\n",
      "\u001b[0;31mValueError\u001b[0m: Error when checking input: expected gru_input to have 3 dimensions, but got array with shape (24, 22)"
     ]
    }
   ],
   "source": [
    "from collections import deque\n",
    "\n",
    "agent.memory = deque(maxlen=1000)\n",
    "\n",
    "for e in range(episode_count + 1):\n",
    "    print(\"Episode \" + str(e) + \"/\" + str(episode_count))\n",
    "    total_profit = 0\n",
    "    agent.inventory = []\n",
    "    state = x_train[0]\n",
    "    \n",
    "    for t in range(l):\n",
    "        action = agent.act(state)\n",
    "        next_state = x_train[t + 1]\n",
    "        reward = 0\n",
    "\n",
    "        if action == 1:\n",
    "            agent.inventory.append((priceAt(state), priceAt(x_raw_train[t])))\n",
    "            \n",
    "        if action == 2 and len(agent.inventory) > 0: # sell\n",
    "            bought_price, bought_raw_price = agent.inventory.pop(0)\n",
    "            reward = max(priceAt(state) - bought_price, 0)\n",
    "            profit = priceAt(x_raw_train[t]) - bought_raw_price\n",
    "            total_profit += profit\n",
    "        \n",
    "        done = True if t == l - 1 else False\n",
    "        agent.memory.append((state, action, reward, next_state, done))\n",
    "        state = next_state\n",
    "        \n",
    "        if done:\n",
    "            print(\"--------------------------------\")\n",
    "            print(\"Total Profit: \" + str(total_profit))\n",
    "            print(\"--------------------------------\")\n",
    "        \n",
    "        if len(agent.memory) > batch_size:\n",
    "            agent.replay(batch_size)"
   ]
  }
 ],
 "metadata": {
  "kernelspec": {
   "display_name": "Python 3",
   "language": "python",
   "name": "python3"
  },
  "language_info": {
   "codemirror_mode": {
    "name": "ipython",
    "version": 3
   },
   "file_extension": ".py",
   "mimetype": "text/x-python",
   "name": "python",
   "nbconvert_exporter": "python",
   "pygments_lexer": "ipython3",
   "version": "3.6.9"
  }
 },
 "nbformat": 4,
 "nbformat_minor": 2
}
